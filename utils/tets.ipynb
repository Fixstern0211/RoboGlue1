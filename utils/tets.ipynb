{
 "cells": [
  {
   "cell_type": "code",
   "execution_count": 2,
   "metadata": {},
   "outputs": [],
   "source": [
    "import numpy as np\n",
    "import glob\n",
    "import cv2\n",
    "import os"
   ]
  },
  {
   "cell_type": "code",
   "execution_count": 9,
   "metadata": {},
   "outputs": [],
   "source": [
    "def kali_n(n):\n",
    "    criteria = (cv2.TERM_CRITERIA_EPS + cv2.TERM_CRITERIA_MAX_ITER, 30, 0.001)\n",
    "    w = 9   # 10 - 1\n",
    "    h = 6   # 7  - 1\n",
    "    objp = np.zeros((w*h,3), np.float32)\n",
    "    objp[:,:2] = np.mgrid[0:w,0:h].T.reshape(-1,2)\n",
    "    objp = objp*18.1  # 18.1 mm\n",
    "    objpoints = []\n",
    "    imgpoints = []\n",
    "    images_k = glob.glob(r'RoboGlueI/kalibrierung/*.png')\n",
    "\n",
    "    i=0\n",
    "    for fname in images_k[:n]:\n",
    "        img = cv2.imread(fname)\n",
    "        h1, w1 = img.shape[0], img.shape[1]\n",
    "        gray = cv2.cvtColor(img,cv2.COLOR_BGR2GRAY)\n",
    "        u, v = img.shape[:2]\n",
    "        ret, corners = cv2.findChessboardCorners(gray, (w,h),None)\n",
    "        if ret == True:\n",
    "            # print(\"i:\", i)\n",
    "            i = i+1\n",
    "            cv2.cornerSubPix(gray,corners,(11,11),(-1,-1),criteria)\n",
    "            objpoints.append(objp)\n",
    "            imgpoints.append(corners)\n",
    "            cv2.drawChessboardCorners(img, (w,h), corners, ret)\n",
    "            cv2.namedWindow('findCorners', cv2.WINDOW_NORMAL)\n",
    "            cv2.resizeWindow('findCorners', 640, 480)\n",
    "            cv2.imshow('findCorners',img)\n",
    "            cv2.waitKey(200)\n",
    "    cv2.destroyAllWindows()\n",
    "\n",
    "    ret, mtx, dist, rvecs, tvecs = \\\n",
    "        cv2.calibrateCamera(objpoints, imgpoints, gray.shape[::-1], None, None)\n",
    "    \n",
    "    newcameramtx, roi = cv2.getOptimalNewCameraMatrix(mtx, dist, (u, v), 0, (u, v))\n",
    "    return dist[0], [newcameramtx[0][0], newcameramtx[1][1], newcameramtx[0][2], newcameramtx[1][2]]"
   ]
  },
  {
   "cell_type": "code",
   "execution_count": 10,
   "metadata": {},
   "outputs": [
    {
     "ename": "UnboundLocalError",
     "evalue": "local variable 'gray' referenced before assignment",
     "output_type": "error",
     "traceback": [
      "\u001b[1;31m---------------------------------------------------------------------------\u001b[0m",
      "\u001b[1;31mUnboundLocalError\u001b[0m                         Traceback (most recent call last)",
      "Cell \u001b[1;32mIn[10], line 1\u001b[0m\n\u001b[1;32m----> 1\u001b[0m kali_n(\u001b[39m3\u001b[39;49m)\n",
      "Cell \u001b[1;32mIn[9], line 33\u001b[0m, in \u001b[0;36mkali_n\u001b[1;34m(n)\u001b[0m\n\u001b[0;32m     29\u001b[0m         cv2\u001b[39m.\u001b[39mwaitKey(\u001b[39m200\u001b[39m)\n\u001b[0;32m     30\u001b[0m cv2\u001b[39m.\u001b[39mdestroyAllWindows()\n\u001b[0;32m     32\u001b[0m ret, mtx, dist, rvecs, tvecs \u001b[39m=\u001b[39m \\\n\u001b[1;32m---> 33\u001b[0m     cv2\u001b[39m.\u001b[39mcalibrateCamera(objpoints, imgpoints, gray\u001b[39m.\u001b[39mshape[::\u001b[39m-\u001b[39m\u001b[39m1\u001b[39m], \u001b[39mNone\u001b[39;00m, \u001b[39mNone\u001b[39;00m)\n\u001b[0;32m     35\u001b[0m newcameramtx, roi \u001b[39m=\u001b[39m cv2\u001b[39m.\u001b[39mgetOptimalNewCameraMatrix(mtx, dist, (u, v), \u001b[39m0\u001b[39m, (u, v))\n\u001b[0;32m     36\u001b[0m \u001b[39mreturn\u001b[39;00m dist[\u001b[39m0\u001b[39m], [newcameramtx[\u001b[39m0\u001b[39m][\u001b[39m0\u001b[39m], newcameramtx[\u001b[39m1\u001b[39m][\u001b[39m1\u001b[39m], newcameramtx[\u001b[39m0\u001b[39m][\u001b[39m2\u001b[39m], newcameramtx[\u001b[39m1\u001b[39m][\u001b[39m2\u001b[39m]]\n",
      "\u001b[1;31mUnboundLocalError\u001b[0m: local variable 'gray' referenced before assignment"
     ]
    }
   ],
   "source": [
    "kali_n(3)"
   ]
  },
  {
   "cell_type": "code",
   "execution_count": null,
   "metadata": {},
   "outputs": [],
   "source": []
  }
 ],
 "metadata": {
  "kernelspec": {
   "display_name": "base",
   "language": "python",
   "name": "python3"
  },
  "language_info": {
   "codemirror_mode": {
    "name": "ipython",
    "version": 3
   },
   "file_extension": ".py",
   "mimetype": "text/x-python",
   "name": "python",
   "nbconvert_exporter": "python",
   "pygments_lexer": "ipython3",
   "version": "3.9.13"
  },
  "orig_nbformat": 4
 },
 "nbformat": 4,
 "nbformat_minor": 2
}
